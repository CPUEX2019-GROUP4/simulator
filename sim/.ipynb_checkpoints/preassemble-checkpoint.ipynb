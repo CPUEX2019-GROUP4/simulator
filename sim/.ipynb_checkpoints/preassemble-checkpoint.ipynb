{
 "cells": [
  {
   "cell_type": "code",
   "execution_count": 74,
   "metadata": {},
   "outputs": [],
   "source": [
    "# 各命令の行番号と命令番号の対応をとるとともに、ラベルを定数に置換する\n",
    "# (行番号, 命令番号) というpairを作れば、ラベルは行番号に置き換えは簡単だから処理できそう\n",
    "# 最初にmappings, labelsをすべて集めて、次にラベルを置換する。2回入力アセンブリを読み込む"
   ]
  },
  {
   "cell_type": "code",
   "execution_count": 104,
   "metadata": {},
   "outputs": [],
   "source": [
    "def gather(f):\n",
    "    mappings = []  # list of (行番号, 命令番号)\n",
    "    labels = []    # list of (ラベル, 行番号)\n",
    "    l = 1  # line number\n",
    "    i = 0  # inst numbe\n",
    "    for line in f:\n",
    "        if line[0] == '#':\n",
    "            continue\n",
    "        elif line.endswith(\":\\n\"):\n",
    "            labels.append((line[:-2], l))\n",
    "        else:\n",
    "            mappings.append((l, i))\n",
    "            i += 1\n",
    "        l += 1\n",
    "    return mappings, labels"
   ]
  },
  {
   "cell_type": "code",
   "execution_count": 119,
   "metadata": {},
   "outputs": [],
   "source": [
    "def subst_labels(mappings, labels, f):\n",
    "    def g(label):\n",
    "        for (l,ll) in labels:\n",
    "            if label in l:\n",
    "                for (lll, i) in mappings:\n",
    "                    if ll == lll-1:\n",
    "                        return i\n",
    "        return -1\n",
    "    def nlin_to_ninst(i):\n",
    "        for (nlin, inst) in mappings:\n",
    "            if i == nlin:\n",
    "                return inst\n",
    "    # returns the substituted list of instructions\n",
    "    # 対象はj/jal/beq/bne\n",
    "    ret = []\n",
    "    l = 0\n",
    "    for line in f:\n",
    "        l += 1\n",
    "        if line.strip()[-1:] == ':':\n",
    "            continue\n",
    "        #print(line)\n",
    "        if line.strip().startswith('jal '):\n",
    "            n = g(line.strip()[4:])\n",
    "            line = 'jal ' + str(n) + '\\n'\n",
    "        elif line.strip().startswith('j '):\n",
    "            n = g(line.strip()[2:])\n",
    "            line = 'j ' + str(n) + '\\n'\n",
    "        elif line.strip().startswith('bne ') or line.strip().startswith('beq '):\n",
    "            v = line.strip().split(' ')\n",
    "            n = g(v[-1]) - nlin_to_ninst(l) - 1\n",
    "            line = v[0] + ' ' + v[1] + ' ' + v[2] + ' ' + str(n) + '\\n'\n",
    "        ret.append(line)\n",
    "    return ret"
   ]
  },
  {
   "cell_type": "code",
   "execution_count": 120,
   "metadata": {},
   "outputs": [],
   "source": [
    "path = 'foo.s'\n",
    "out = 'piyo.s'\n",
    "with open(path) as f:\n",
    "    mappings, labels = gather(f)\n",
    "    #print(mappings)\n",
    "with open(path) as f:\n",
    "    ret = subst_labels(mappings, labels, f)\n",
    "    with open(out, \"w\") as writer:\n",
    "        writer.writelines(ret)\n",
    "    #print(ret)"
   ]
  },
  {
   "cell_type": "code",
   "execution_count": null,
   "metadata": {},
   "outputs": [],
   "source": []
  }
 ],
 "metadata": {
  "kernelspec": {
   "display_name": "Python 3",
   "language": "python",
   "name": "python3"
  },
  "language_info": {
   "codemirror_mode": {
    "name": "ipython",
    "version": 3
   },
   "file_extension": ".py",
   "mimetype": "text/x-python",
   "name": "python",
   "nbconvert_exporter": "python",
   "pygments_lexer": "ipython3",
   "version": "3.7.4"
  }
 },
 "nbformat": 4,
 "nbformat_minor": 2
}
