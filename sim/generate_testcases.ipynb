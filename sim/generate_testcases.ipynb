{
 "cells": [
  {
   "cell_type": "code",
   "execution_count": 1,
   "metadata": {},
   "outputs": [],
   "source": [
    "import sys\n",
    "import os\n",
    "import random\n",
    "import itertools"
   ]
  },
  {
   "cell_type": "code",
   "execution_count": 10,
   "metadata": {},
   "outputs": [],
   "source": [
    "registers = ['r' + str(i) for i in range(0, 32)]\n",
    "dabs = ['add', 'sub', 'or', 'slt', 'sllv']\n",
    "dacs = ['addi', 'subi', 'lw', 'sw', 'ori', 'slti', 'beq', 'bne']\n",
    "dcs = ['lui']\n",
    "ds = ['jr']\n",
    "css = ['j', 'jal']"
   ]
  },
  {
   "cell_type": "code",
   "execution_count": 13,
   "metadata": {},
   "outputs": [],
   "source": [
    "def generate_c():\n",
    "    return random.randint(0, 32767)"
   ]
  },
  {
   "cell_type": "code",
   "execution_count": 14,
   "metadata": {},
   "outputs": [],
   "source": [
    "with open('hoge.s', \"w\") as f:\n",
    "    # dabs\n",
    "    regs = list(itertools.permutations(registers, 3))\n",
    "    regs = random.sample(regs, 100)\n",
    "    concat = [d + ' ' + a + ' ' + b + '\\n' for (d,a,b) in regs]\n",
    "    dab_list = [inst + ' ' + args for inst in dabs for args in concat]\n",
    "    f.writelines(dab_list)\n",
    "    # dacs\n",
    "    regs = list(itertools.permutations(registers, 2))\n",
    "    regs = random.sample(regs, 100)\n",
    "    cs = [str(generate_c()) for i in range(0, 100)]\n",
    "    concat = [d + ' ' + a + ' ' + c + '\\n' for ((d,a),c) in zip(regs, cs)]\n",
    "    dac_list = [inst + ' ' + args for inst in dacs for args in concat]\n",
    "    f.writelines(dac_list)\n",
    "    # sll\n",
    "    cs = [str(random.randint(0, 31)) for i in range(0, 100)]\n",
    "    concat = [d + ' ' + a + ' ' + c + '\\n' for ((d,a),c) in zip(regs, cs)]\n",
    "    slls = ['sll ' + args for args in concat]\n",
    "    f.writelines(slls)\n",
    "    # dcs\n",
    "    regs = registers\n",
    "    cs = [str(generate_c()) for i in range(0, 32)]\n",
    "    concat = [d + ' ' + c + '\\n' for (d,c) in zip(regs, cs)]\n",
    "    dc_list = [inst + ' '  + args for inst in dcs for args in concat]\n",
    "    f.writelines(dc_list)\n",
    "    # ds\n",
    "    regs = [d + '\\n' for d in registers]\n",
    "    d_list = [inst + ' '  + d for inst in ds for d in regs]\n",
    "    f.writelines(d_list)\n",
    "    # cs\n",
    "    cs = [str(generate_c()) for i in range(0, 100)]\n",
    "    concat = [c + '\\n' for c in cs]\n",
    "    c_list = [inst + ' ' + args for inst in css for args in concat]\n",
    "    f.writelines(c_list)"
   ]
  },
  {
   "cell_type": "code",
   "execution_count": null,
   "metadata": {},
   "outputs": [],
   "source": []
  }
 ],
 "metadata": {
  "kernelspec": {
   "display_name": "Python 3",
   "language": "python",
   "name": "python3"
  },
  "language_info": {
   "codemirror_mode": {
    "name": "ipython",
    "version": 3
   },
   "file_extension": ".py",
   "mimetype": "text/x-python",
   "name": "python",
   "nbconvert_exporter": "python",
   "pygments_lexer": "ipython3",
   "version": "3.7.4"
  }
 },
 "nbformat": 4,
 "nbformat_minor": 2
}
